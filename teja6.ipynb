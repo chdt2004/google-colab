{
  "nbformat": 4,
  "nbformat_minor": 0,
  "metadata": {
    "colab": {
      "provenance": [],
      "authorship_tag": "ABX9TyPIKP9cvD5jHYD+bAUv6RFD",
      "include_colab_link": true
    },
    "kernelspec": {
      "name": "python3",
      "display_name": "Python 3"
    },
    "language_info": {
      "name": "python"
    }
  },
  "cells": [
    {
      "cell_type": "markdown",
      "metadata": {
        "id": "view-in-github",
        "colab_type": "text"
      },
      "source": [
        "<a href=\"https://colab.research.google.com/github/chdt2004/google-colab/blob/main/teja6.ipynb\" target=\"_parent\"><img src=\"https://colab.research.google.com/assets/colab-badge.svg\" alt=\"Open In Colab\"/></a>"
      ]
    },
    {
      "cell_type": "code",
      "execution_count": 1,
      "metadata": {
        "colab": {
          "base_uri": "https://localhost:8080/"
        },
        "id": "2jfMsn3DuWEw",
        "outputId": "5fed2fcd-b188-45c5-9552-20e6fdaff5af"
      },
      "outputs": [
        {
          "output_type": "stream",
          "name": "stdout",
          "text": [
            "Time's up!\n"
          ]
        }
      ],
      "source": [
        "import time\n",
        "\n",
        "def countdown(seconds):\n",
        "    while seconds:\n",
        "        mins, secs = divmod(seconds, 60)\n",
        "        timeformat = f'{mins:02d}:{secs:02d}'\n",
        "        print(timeformat, end='\\r')\n",
        "        time.sleep(1)\n",
        "        seconds -= 1\n",
        "    print(\"Time's up!\")\n",
        "\n",
        "# Countdown for 10 seconds\n",
        "countdown(10)\n"
      ]
    }
  ]
}